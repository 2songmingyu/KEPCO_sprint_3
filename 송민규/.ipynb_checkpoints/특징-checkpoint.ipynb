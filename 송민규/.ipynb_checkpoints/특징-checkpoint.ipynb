{
 "cells": [
  {
   "cell_type": "markdown",
   "id": "ca086f3a-88d9-477f-a8b1-67bc1e7c0c2b",
   "metadata": {},
   "source": [
    "%%HTML\n",
    "<style>\n",
    "td {\n",
    "  font-size: 20px\n",
    "}\n",
    "table {float:left}\n",
    "</style>"
   ]
  },
  {
   "cell_type": "code",
   "execution_count": 1,
   "id": "b7b033f1-1aae-49ef-901d-3dc90562be22",
   "metadata": {},
   "outputs": [],
   "source": [
    "import os \n",
    "# 필요 라이브러리 로드\n",
    "from matplotlib import font_manager, rc\n",
    "import matplotlib\n",
    "import matplotlib.pyplot as plt\n",
    "import seaborn as sns\n",
    "import pandas as pd\n",
    "import numpy as np\n",
    "import platform\n",
    "\n",
    "if platform.system() == 'Windows':\n",
    "# 윈도우인 경우 맑은 고딕 폰트 이용\n",
    "    font_name = font_manager.FontProperties(fname=\"c:/Windows/Fonts/malgun.ttf\"\n",
    "                                           ).get_name()\n",
    "    rc('font', family=font_name)\n",
    "else:    \n",
    "# Mac 인 경우\n",
    "    rc('font', family='AppleGothic')\n",
    "\n",
    "#그래프에서 마이너스 기호가 표시되게 하는 설정입니다.\n",
    "matplotlib.rcParams['axes.unicode_minus'] = False"
   ]
  },
  {
   "cell_type": "code",
   "execution_count": 2,
   "id": "be937bc8-e510-46ba-a751-1395101d0db7",
   "metadata": {
    "tags": []
   },
   "outputs": [],
   "source": [
    "df = pd.read_csv(\"시도·산업·종사자규모별_사업체수__종사자수_’06___20230427162816.csv\",encoding='cp949')"
   ]
  },
  {
   "cell_type": "code",
   "execution_count": 3,
   "id": "68825542-d10e-48be-beef-9817266d364e",
   "metadata": {},
   "outputs": [
    {
     "data": {
      "text/html": [
       "<div>\n",
       "<style scoped>\n",
       "    .dataframe tbody tr th:only-of-type {\n",
       "        vertical-align: middle;\n",
       "    }\n",
       "\n",
       "    .dataframe tbody tr th {\n",
       "        vertical-align: top;\n",
       "    }\n",
       "\n",
       "    .dataframe thead th {\n",
       "        text-align: right;\n",
       "    }\n",
       "</style>\n",
       "<table border=\"1\" class=\"dataframe\">\n",
       "  <thead>\n",
       "    <tr style=\"text-align: right;\">\n",
       "      <th></th>\n",
       "      <th>행정구역별</th>\n",
       "      <th>산업별</th>\n",
       "      <th>종사자규모별</th>\n",
       "      <th>2020</th>\n",
       "      <th>2020.1</th>\n",
       "    </tr>\n",
       "  </thead>\n",
       "  <tbody>\n",
       "    <tr>\n",
       "      <th>0</th>\n",
       "      <td>행정구역별</td>\n",
       "      <td>산업별</td>\n",
       "      <td>종사자규모별</td>\n",
       "      <td>사업체수 (개)</td>\n",
       "      <td>종사자수 (명)</td>\n",
       "    </tr>\n",
       "    <tr>\n",
       "      <th>1</th>\n",
       "      <td>전국</td>\n",
       "      <td>전체 산업</td>\n",
       "      <td>계</td>\n",
       "      <td>4325195</td>\n",
       "      <td>21583421</td>\n",
       "    </tr>\n",
       "    <tr>\n",
       "      <th>2</th>\n",
       "      <td>전국</td>\n",
       "      <td>전체 산업</td>\n",
       "      <td>1 - 4명</td>\n",
       "      <td>3587125</td>\n",
       "      <td>5699039</td>\n",
       "    </tr>\n",
       "    <tr>\n",
       "      <th>3</th>\n",
       "      <td>전국</td>\n",
       "      <td>전체 산업</td>\n",
       "      <td>5 - 9명</td>\n",
       "      <td>421489</td>\n",
       "      <td>2698584</td>\n",
       "    </tr>\n",
       "    <tr>\n",
       "      <th>4</th>\n",
       "      <td>전국</td>\n",
       "      <td>전체 산업</td>\n",
       "      <td>10 - 19명</td>\n",
       "      <td>170410</td>\n",
       "      <td>2255029</td>\n",
       "    </tr>\n",
       "    <tr>\n",
       "      <th>...</th>\n",
       "      <td>...</td>\n",
       "      <td>...</td>\n",
       "      <td>...</td>\n",
       "      <td>...</td>\n",
       "      <td>...</td>\n",
       "    </tr>\n",
       "    <tr>\n",
       "      <th>3068</th>\n",
       "      <td>제주</td>\n",
       "      <td>협회 및 단체, 수리 및 기타 개인 서비스업(94~96)</td>\n",
       "      <td>5 - 9명</td>\n",
       "      <td>210</td>\n",
       "      <td>1329</td>\n",
       "    </tr>\n",
       "    <tr>\n",
       "      <th>3069</th>\n",
       "      <td>제주</td>\n",
       "      <td>협회 및 단체, 수리 및 기타 개인 서비스업(94~96)</td>\n",
       "      <td>10 - 19명</td>\n",
       "      <td>92</td>\n",
       "      <td>1236</td>\n",
       "    </tr>\n",
       "    <tr>\n",
       "      <th>3070</th>\n",
       "      <td>제주</td>\n",
       "      <td>협회 및 단체, 수리 및 기타 개인 서비스업(94~96)</td>\n",
       "      <td>20 - 49명</td>\n",
       "      <td>47</td>\n",
       "      <td>1302</td>\n",
       "    </tr>\n",
       "    <tr>\n",
       "      <th>3071</th>\n",
       "      <td>제주</td>\n",
       "      <td>협회 및 단체, 수리 및 기타 개인 서비스업(94~96)</td>\n",
       "      <td>50 - 99명</td>\n",
       "      <td>6</td>\n",
       "      <td>387</td>\n",
       "    </tr>\n",
       "    <tr>\n",
       "      <th>3072</th>\n",
       "      <td>제주</td>\n",
       "      <td>협회 및 단체, 수리 및 기타 개인 서비스업(94~96)</td>\n",
       "      <td>100 - 299명</td>\n",
       "      <td>2</td>\n",
       "      <td>X</td>\n",
       "    </tr>\n",
       "  </tbody>\n",
       "</table>\n",
       "<p>3073 rows × 5 columns</p>\n",
       "</div>"
      ],
      "text/plain": [
       "      행정구역별                              산업별      종사자규모별      2020    2020.1\n",
       "0     행정구역별                              산업별      종사자규모별  사업체수 (개)  종사자수 (명)\n",
       "1        전국                            전체 산업           계   4325195  21583421\n",
       "2        전국                            전체 산업      1 - 4명   3587125   5699039\n",
       "3        전국                            전체 산업      5 - 9명    421489   2698584\n",
       "4        전국                            전체 산업    10 - 19명    170410   2255029\n",
       "...     ...                              ...         ...       ...       ...\n",
       "3068     제주  협회 및 단체, 수리 및 기타 개인 서비스업(94~96)      5 - 9명       210      1329\n",
       "3069     제주  협회 및 단체, 수리 및 기타 개인 서비스업(94~96)    10 - 19명        92      1236\n",
       "3070     제주  협회 및 단체, 수리 및 기타 개인 서비스업(94~96)    20 - 49명        47      1302\n",
       "3071     제주  협회 및 단체, 수리 및 기타 개인 서비스업(94~96)    50 - 99명         6       387\n",
       "3072     제주  협회 및 단체, 수리 및 기타 개인 서비스업(94~96)  100 - 299명         2         X\n",
       "\n",
       "[3073 rows x 5 columns]"
      ]
     },
     "execution_count": 3,
     "metadata": {},
     "output_type": "execute_result"
    }
   ],
   "source": [
    "df"
   ]
  },
  {
   "cell_type": "code",
   "execution_count": 4,
   "id": "45a97b2a-ec36-40f3-93f9-827f2c542ecc",
   "metadata": {},
   "outputs": [
    {
     "data": {
      "text/html": [
       "<div>\n",
       "<style scoped>\n",
       "    .dataframe tbody tr th:only-of-type {\n",
       "        vertical-align: middle;\n",
       "    }\n",
       "\n",
       "    .dataframe tbody tr th {\n",
       "        vertical-align: top;\n",
       "    }\n",
       "\n",
       "    .dataframe thead th {\n",
       "        text-align: right;\n",
       "    }\n",
       "</style>\n",
       "<table border=\"1\" class=\"dataframe\">\n",
       "  <thead>\n",
       "    <tr style=\"text-align: right;\">\n",
       "      <th></th>\n",
       "      <th>행정구역별</th>\n",
       "      <th>산업별</th>\n",
       "      <th>종사자규모별</th>\n",
       "      <th>사업체수(개)</th>\n",
       "      <th>종사자수(명)</th>\n",
       "    </tr>\n",
       "  </thead>\n",
       "  <tbody>\n",
       "    <tr>\n",
       "      <th>0</th>\n",
       "      <td>행정구역별</td>\n",
       "      <td>산업별</td>\n",
       "      <td>종사자규모별</td>\n",
       "      <td>사업체수 (개)</td>\n",
       "      <td>종사자수 (명)</td>\n",
       "    </tr>\n",
       "    <tr>\n",
       "      <th>1</th>\n",
       "      <td>전국</td>\n",
       "      <td>전체 산업</td>\n",
       "      <td>계</td>\n",
       "      <td>4325195</td>\n",
       "      <td>21583421</td>\n",
       "    </tr>\n",
       "    <tr>\n",
       "      <th>2</th>\n",
       "      <td>전국</td>\n",
       "      <td>전체 산업</td>\n",
       "      <td>1 - 4명</td>\n",
       "      <td>3587125</td>\n",
       "      <td>5699039</td>\n",
       "    </tr>\n",
       "    <tr>\n",
       "      <th>3</th>\n",
       "      <td>전국</td>\n",
       "      <td>전체 산업</td>\n",
       "      <td>5 - 9명</td>\n",
       "      <td>421489</td>\n",
       "      <td>2698584</td>\n",
       "    </tr>\n",
       "    <tr>\n",
       "      <th>4</th>\n",
       "      <td>전국</td>\n",
       "      <td>전체 산업</td>\n",
       "      <td>10 - 19명</td>\n",
       "      <td>170410</td>\n",
       "      <td>2255029</td>\n",
       "    </tr>\n",
       "  </tbody>\n",
       "</table>\n",
       "</div>"
      ],
      "text/plain": [
       "   행정구역별    산업별    종사자규모별   사업체수(개)   종사자수(명)\n",
       "0  행정구역별    산업별    종사자규모별  사업체수 (개)  종사자수 (명)\n",
       "1     전국  전체 산업         계   4325195  21583421\n",
       "2     전국  전체 산업    1 - 4명   3587125   5699039\n",
       "3     전국  전체 산업    5 - 9명    421489   2698584\n",
       "4     전국  전체 산업  10 - 19명    170410   2255029"
      ]
     },
     "execution_count": 4,
     "metadata": {},
     "output_type": "execute_result"
    }
   ],
   "source": [
    "df.columns=['행정구역별','산업별','종사자규모별','사업체수(개)','종사자수(명)']\n",
    "df.head()"
   ]
  },
  {
   "cell_type": "code",
   "execution_count": 5,
   "id": "64eb6ca6-a48b-42d5-a43c-b32893eb4352",
   "metadata": {},
   "outputs": [],
   "source": [
    "df=df.drop(0) # 0번 컬럼 버림 "
   ]
  },
  {
   "cell_type": "code",
   "execution_count": 6,
   "id": "728543cc-877e-4267-930c-aecceda6744b",
   "metadata": {
    "tags": []
   },
   "outputs": [],
   "source": [
    "df=df.reset_index(drop=True)\n"
   ]
  },
  {
   "cell_type": "code",
   "execution_count": null,
   "id": "4fc23135-1d3f-42f7-ab69-d81891659fcc",
   "metadata": {
    "tags": []
   },
   "outputs": [],
   "source": []
  },
  {
   "cell_type": "code",
   "execution_count": 7,
   "id": "8bc38276-9c6a-4f4d-bf02-5855b75a1742",
   "metadata": {},
   "outputs": [],
   "source": [
    "df=df.replace('X','0')\n"
   ]
  },
  {
   "cell_type": "code",
   "execution_count": 8,
   "id": "a42c061c-9efd-4f40-a81c-8df3eec5ee1a",
   "metadata": {
    "tags": []
   },
   "outputs": [
    {
     "name": "stdout",
     "output_type": "stream",
     "text": [
      "<class 'pandas.core.frame.DataFrame'>\n",
      "RangeIndex: 3072 entries, 0 to 3071\n",
      "Data columns (total 5 columns):\n",
      " #   Column   Non-Null Count  Dtype \n",
      "---  ------   --------------  ----- \n",
      " 0   행정구역별    3072 non-null   object\n",
      " 1   산업별      3072 non-null   object\n",
      " 2   종사자규모별   3072 non-null   object\n",
      " 3   사업체수(개)  3072 non-null   int32 \n",
      " 4   종사자수(명)  3072 non-null   int32 \n",
      "dtypes: int32(2), object(3)\n",
      "memory usage: 96.1+ KB\n"
     ]
    }
   ],
   "source": [
    "df = df.astype({'사업체수(개)':'int','종사자수(명)':'int'})\n",
    "df.info()\n",
    "# df.drop(columns='index',inplace=True)"
   ]
  },
  {
   "cell_type": "code",
   "execution_count": 9,
   "id": "2b7eb5b8-1c04-4cfb-9ece-1aa74e34c51c",
   "metadata": {
    "tags": []
   },
   "outputs": [
    {
     "data": {
      "text/plain": [
       "'\\n지역별로(전국제외 )  한  전체산업== 계 서울이 모여있는 사람이 가장 많았고  전체\\n\\n지역별 지도에서 보여주면  좋을듯 \\n\\n사업체 개수보다 종사자수 더 많다   \\n1개의 산업체마다 사람수의 평균 산업별로  종사자가 많은 산업을 알 수있다\\n\\n종사자 규모별이있으니까  큰산업 대부분  어디에 분포해 있더라 \\n\\n\\n\\n행정구역 전국 분리  지역별 \\n'"
      ]
     },
     "execution_count": 9,
     "metadata": {},
     "output_type": "execute_result"
    }
   ],
   "source": [
    "'''\n",
    "지역별로(전국제외 )  한  전체산업== 계 서울이 모여있는 사람이 가장 많았고  전체\n",
    "\n",
    "지역별 지도에서 보여주면  좋을듯 \n",
    "\n",
    "사업체 개수보다 종사자수 더 많다   \n",
    "1개의 산업체마다 사람수의 평균 산업별로  종사자가 많은 산업을 알 수있다\n",
    "\n",
    "종사자 규모별이있으니까  큰산업 대부분  어디에 분포해 있더라 \n",
    "\n",
    "\n",
    "\n",
    "행정구역 전국 분리  지역별 \n",
    "'''"
   ]
  },
  {
   "cell_type": "code",
   "execution_count": 10,
   "id": "3bcefcd5-d8b7-4436-b49b-08875394fc4a",
   "metadata": {
    "tags": []
   },
   "outputs": [
    {
     "data": {
      "text/plain": [
       "'\\n1 .전국을 제외한 지역으로 나눈다  \\n2.지역별로  구분해서  전체산업의  종사자수를 확인한다  = 서울이 가장 많다 ?? \\n3.산업별로  평균 종사자 확인  >> 특정산업에는 사람이 많이 몰린다  and 지역별로 발달한  산업 확인>>\\n그래서  이산업이 발달한 이지역에  사람이 많이 몰렸다 \\n\\n'"
      ]
     },
     "execution_count": 10,
     "metadata": {},
     "output_type": "execute_result"
    }
   ],
   "source": [
    "'''\n",
    "1 .전국을 제외한 지역으로 나눈다  \n",
    "2.지역별로  구분해서  전체산업의  종사자수를 확인한다  = 서울이 가장 많다 ?? \n",
    "3.산업별로  평균 종사자 확인  >> 특정산업에는 사람이 많이 몰린다  and 지역별로 발달한  산업 확인>>\n",
    "그래서  이산업이 발달한 이지역에  사람이 많이 몰렸다 \n",
    "\n",
    "'''"
   ]
  },
  {
   "cell_type": "code",
   "execution_count": 11,
   "id": "d190b1b0-1f6d-4715-b320-42613886795f",
   "metadata": {},
   "outputs": [],
   "source": [
    "df_region=df[df['행정구역별']!='전국'] "
   ]
  },
  {
   "cell_type": "code",
   "execution_count": 12,
   "id": "a79809fd-7fca-4c76-bc61-1ccfd4832f8b",
   "metadata": {
    "tags": []
   },
   "outputs": [],
   "source": [
    "df_region_sum=df_region[df_region['종사자규모별']=='계']\n",
    "### df_region_sum  지역별 산업별 전체 산업   /  지역 산업별 \n"
   ]
  },
  {
   "cell_type": "code",
   "execution_count": 13,
   "id": "b90f844a-53ac-4f9e-ab8d-859996efa26d",
   "metadata": {},
   "outputs": [],
   "source": [
    "df_region_all=df_region_sum[df_region_sum['산업별']=='전체 산업']# 지역별 산업별 전체 산업"
   ]
  },
  {
   "cell_type": "code",
   "execution_count": 14,
   "id": "ce0fed89-b370-47f3-84c8-7db49dca8349",
   "metadata": {
    "tags": []
   },
   "outputs": [
    {
     "data": {
      "text/html": [
       "<div>\n",
       "<style scoped>\n",
       "    .dataframe tbody tr th:only-of-type {\n",
       "        vertical-align: middle;\n",
       "    }\n",
       "\n",
       "    .dataframe tbody tr th {\n",
       "        vertical-align: top;\n",
       "    }\n",
       "\n",
       "    .dataframe thead th {\n",
       "        text-align: right;\n",
       "    }\n",
       "</style>\n",
       "<table border=\"1\" class=\"dataframe\">\n",
       "  <thead>\n",
       "    <tr style=\"text-align: right;\">\n",
       "      <th></th>\n",
       "      <th>행정구역별</th>\n",
       "      <th>산업별</th>\n",
       "      <th>종사자규모별</th>\n",
       "      <th>사업체수(개)</th>\n",
       "      <th>종사자수(명)</th>\n",
       "    </tr>\n",
       "  </thead>\n",
       "  <tbody>\n",
       "    <tr>\n",
       "      <th>206</th>\n",
       "      <td>서울</td>\n",
       "      <td>농업, 임업 및 어업(01~03)</td>\n",
       "      <td>계</td>\n",
       "      <td>64</td>\n",
       "      <td>532</td>\n",
       "    </tr>\n",
       "    <tr>\n",
       "      <th>212</th>\n",
       "      <td>서울</td>\n",
       "      <td>광업(05~08)</td>\n",
       "      <td>계</td>\n",
       "      <td>11</td>\n",
       "      <td>58</td>\n",
       "    </tr>\n",
       "    <tr>\n",
       "      <th>216</th>\n",
       "      <td>서울</td>\n",
       "      <td>제조업(10~34)</td>\n",
       "      <td>계</td>\n",
       "      <td>58865</td>\n",
       "      <td>245843</td>\n",
       "    </tr>\n",
       "    <tr>\n",
       "      <th>226</th>\n",
       "      <td>서울</td>\n",
       "      <td>전기, 가스, 증기 및 공기조절 공급업(35)</td>\n",
       "      <td>계</td>\n",
       "      <td>212</td>\n",
       "      <td>6020</td>\n",
       "    </tr>\n",
       "    <tr>\n",
       "      <th>234</th>\n",
       "      <td>서울</td>\n",
       "      <td>수도, 하수 및 폐기물 처리, 원료 재생업(36~39)</td>\n",
       "      <td>계</td>\n",
       "      <td>498</td>\n",
       "      <td>9309</td>\n",
       "    </tr>\n",
       "    <tr>\n",
       "      <th>...</th>\n",
       "      <td>...</td>\n",
       "      <td>...</td>\n",
       "      <td>...</td>\n",
       "      <td>...</td>\n",
       "      <td>...</td>\n",
       "    </tr>\n",
       "    <tr>\n",
       "      <th>3028</th>\n",
       "      <td>제주</td>\n",
       "      <td>공공행정, 국방 및 사회보장 행정(84)</td>\n",
       "      <td>계</td>\n",
       "      <td>209</td>\n",
       "      <td>15385</td>\n",
       "    </tr>\n",
       "    <tr>\n",
       "      <th>3037</th>\n",
       "      <td>제주</td>\n",
       "      <td>교육 서비스업(85)</td>\n",
       "      <td>계</td>\n",
       "      <td>2842</td>\n",
       "      <td>20908</td>\n",
       "    </tr>\n",
       "    <tr>\n",
       "      <th>3046</th>\n",
       "      <td>제주</td>\n",
       "      <td>보건업 및 사회복지 서비스업(86~87)</td>\n",
       "      <td>계</td>\n",
       "      <td>2019</td>\n",
       "      <td>26991</td>\n",
       "    </tr>\n",
       "    <tr>\n",
       "      <th>3056</th>\n",
       "      <td>제주</td>\n",
       "      <td>예술, 스포츠 및 여가관련 서비스업(90~91)</td>\n",
       "      <td>계</td>\n",
       "      <td>1998</td>\n",
       "      <td>10446</td>\n",
       "    </tr>\n",
       "    <tr>\n",
       "      <th>3065</th>\n",
       "      <td>제주</td>\n",
       "      <td>협회 및 단체, 수리 및 기타 개인 서비스업(94~96)</td>\n",
       "      <td>계</td>\n",
       "      <td>5942</td>\n",
       "      <td>11938</td>\n",
       "    </tr>\n",
       "  </tbody>\n",
       "</table>\n",
       "<p>323 rows × 5 columns</p>\n",
       "</div>"
      ],
      "text/plain": [
       "     행정구역별                              산업별 종사자규모별  사업체수(개)  종사자수(명)\n",
       "206     서울               농업, 임업 및 어업(01~03)      계       64      532\n",
       "212     서울                        광업(05~08)      계       11       58\n",
       "216     서울                       제조업(10~34)      계    58865   245843\n",
       "226     서울        전기, 가스, 증기 및 공기조절 공급업(35)      계      212     6020\n",
       "234     서울   수도, 하수 및 폐기물 처리, 원료 재생업(36~39)      계      498     9309\n",
       "...    ...                              ...    ...      ...      ...\n",
       "3028    제주           공공행정, 국방 및 사회보장 행정(84)      계      209    15385\n",
       "3037    제주                      교육 서비스업(85)      계     2842    20908\n",
       "3046    제주           보건업 및 사회복지 서비스업(86~87)      계     2019    26991\n",
       "3056    제주       예술, 스포츠 및 여가관련 서비스업(90~91)      계     1998    10446\n",
       "3065    제주  협회 및 단체, 수리 및 기타 개인 서비스업(94~96)      계     5942    11938\n",
       "\n",
       "[323 rows x 5 columns]"
      ]
     },
     "execution_count": 14,
     "metadata": {},
     "output_type": "execute_result"
    }
   ],
   "source": [
    "df_region_industry=df_region_sum[df_region_sum['산업별']!='전체 산업']  ## 지역별 산업\n",
    "df_region_industry"
   ]
  },
  {
   "cell_type": "code",
   "execution_count": 18,
   "id": "17a53e0e-9380-4dc1-b049-3d94bc9f0973",
   "metadata": {},
   "outputs": [
    {
     "data": {
      "text/html": [
       "<div>\n",
       "<style scoped>\n",
       "    .dataframe tbody tr th:only-of-type {\n",
       "        vertical-align: middle;\n",
       "    }\n",
       "\n",
       "    .dataframe tbody tr th {\n",
       "        vertical-align: top;\n",
       "    }\n",
       "\n",
       "    .dataframe thead th {\n",
       "        text-align: right;\n",
       "    }\n",
       "</style>\n",
       "<table border=\"1\" class=\"dataframe\">\n",
       "  <thead>\n",
       "    <tr style=\"text-align: right;\">\n",
       "      <th></th>\n",
       "      <th>행정구역별</th>\n",
       "      <th>산업별</th>\n",
       "      <th>종사자규모별</th>\n",
       "      <th>사업체수(개)</th>\n",
       "      <th>종사자수(명)</th>\n",
       "    </tr>\n",
       "  </thead>\n",
       "  <tbody>\n",
       "    <tr>\n",
       "      <th>196</th>\n",
       "      <td>서울</td>\n",
       "      <td>전체 산업</td>\n",
       "      <td>계</td>\n",
       "      <td>848552</td>\n",
       "      <td>5044552</td>\n",
       "    </tr>\n",
       "    <tr>\n",
       "      <th>381</th>\n",
       "      <td>부산</td>\n",
       "      <td>전체 산업</td>\n",
       "      <td>계</td>\n",
       "      <td>298386</td>\n",
       "      <td>1364302</td>\n",
       "    </tr>\n",
       "    <tr>\n",
       "      <th>560</th>\n",
       "      <td>대구</td>\n",
       "      <td>전체 산업</td>\n",
       "      <td>계</td>\n",
       "      <td>214909</td>\n",
       "      <td>893590</td>\n",
       "    </tr>\n",
       "    <tr>\n",
       "      <th>727</th>\n",
       "      <td>인천</td>\n",
       "      <td>전체 산업</td>\n",
       "      <td>계</td>\n",
       "      <td>216249</td>\n",
       "      <td>1051036</td>\n",
       "    </tr>\n",
       "    <tr>\n",
       "      <th>902</th>\n",
       "      <td>광주</td>\n",
       "      <td>전체 산업</td>\n",
       "      <td>계</td>\n",
       "      <td>125295</td>\n",
       "      <td>582380</td>\n",
       "    </tr>\n",
       "    <tr>\n",
       "      <th>1067</th>\n",
       "      <td>대전</td>\n",
       "      <td>전체 산업</td>\n",
       "      <td>계</td>\n",
       "      <td>123728</td>\n",
       "      <td>618248</td>\n",
       "    </tr>\n",
       "    <tr>\n",
       "      <th>1235</th>\n",
       "      <td>울산</td>\n",
       "      <td>전체 산업</td>\n",
       "      <td>계</td>\n",
       "      <td>89907</td>\n",
       "      <td>493599</td>\n",
       "    </tr>\n",
       "    <tr>\n",
       "      <th>1399</th>\n",
       "      <td>세종</td>\n",
       "      <td>전체 산업</td>\n",
       "      <td>계</td>\n",
       "      <td>19821</td>\n",
       "      <td>122236</td>\n",
       "    </tr>\n",
       "    <tr>\n",
       "      <th>1551</th>\n",
       "      <td>경기</td>\n",
       "      <td>전체 산업</td>\n",
       "      <td>계</td>\n",
       "      <td>989105</td>\n",
       "      <td>5028507</td>\n",
       "    </tr>\n",
       "    <tr>\n",
       "      <th>1737</th>\n",
       "      <td>강원</td>\n",
       "      <td>전체 산업</td>\n",
       "      <td>계</td>\n",
       "      <td>150422</td>\n",
       "      <td>627833</td>\n",
       "    </tr>\n",
       "    <tr>\n",
       "      <th>1907</th>\n",
       "      <td>충북</td>\n",
       "      <td>전체 산업</td>\n",
       "      <td>계</td>\n",
       "      <td>138598</td>\n",
       "      <td>707138</td>\n",
       "    </tr>\n",
       "    <tr>\n",
       "      <th>2074</th>\n",
       "      <td>충남</td>\n",
       "      <td>전체 산업</td>\n",
       "      <td>계</td>\n",
       "      <td>184103</td>\n",
       "      <td>937082</td>\n",
       "    </tr>\n",
       "    <tr>\n",
       "      <th>2242</th>\n",
       "      <td>전북</td>\n",
       "      <td>전체 산업</td>\n",
       "      <td>계</td>\n",
       "      <td>156779</td>\n",
       "      <td>682268</td>\n",
       "    </tr>\n",
       "    <tr>\n",
       "      <th>2405</th>\n",
       "      <td>전남</td>\n",
       "      <td>전체 산업</td>\n",
       "      <td>계</td>\n",
       "      <td>163774</td>\n",
       "      <td>738841</td>\n",
       "    </tr>\n",
       "    <tr>\n",
       "      <th>2570</th>\n",
       "      <td>경북</td>\n",
       "      <td>전체 산업</td>\n",
       "      <td>계</td>\n",
       "      <td>242103</td>\n",
       "      <td>1085637</td>\n",
       "    </tr>\n",
       "    <tr>\n",
       "      <th>2738</th>\n",
       "      <td>경남</td>\n",
       "      <td>전체 산업</td>\n",
       "      <td>계</td>\n",
       "      <td>294973</td>\n",
       "      <td>1335973</td>\n",
       "    </tr>\n",
       "    <tr>\n",
       "      <th>2907</th>\n",
       "      <td>제주</td>\n",
       "      <td>전체 산업</td>\n",
       "      <td>계</td>\n",
       "      <td>68491</td>\n",
       "      <td>270199</td>\n",
       "    </tr>\n",
       "  </tbody>\n",
       "</table>\n",
       "</div>"
      ],
      "text/plain": [
       "     행정구역별    산업별 종사자규모별  사업체수(개)  종사자수(명)\n",
       "196     서울  전체 산업      계   848552  5044552\n",
       "381     부산  전체 산업      계   298386  1364302\n",
       "560     대구  전체 산업      계   214909   893590\n",
       "727     인천  전체 산업      계   216249  1051036\n",
       "902     광주  전체 산업      계   125295   582380\n",
       "1067    대전  전체 산업      계   123728   618248\n",
       "1235    울산  전체 산업      계    89907   493599\n",
       "1399    세종  전체 산업      계    19821   122236\n",
       "1551    경기  전체 산업      계   989105  5028507\n",
       "1737    강원  전체 산업      계   150422   627833\n",
       "1907    충북  전체 산업      계   138598   707138\n",
       "2074    충남  전체 산업      계   184103   937082\n",
       "2242    전북  전체 산업      계   156779   682268\n",
       "2405    전남  전체 산업      계   163774   738841\n",
       "2570    경북  전체 산업      계   242103  1085637\n",
       "2738    경남  전체 산업      계   294973  1335973\n",
       "2907    제주  전체 산업      계    68491   270199"
      ]
     },
     "execution_count": 18,
     "metadata": {},
     "output_type": "execute_result"
    }
   ],
   "source": [
    "df_region_all"
   ]
  },
  {
   "cell_type": "code",
   "execution_count": null,
   "id": "d680886b-af82-409f-bf0a-8c98414e1bd5",
   "metadata": {},
   "outputs": [],
   "source": []
  },
  {
   "cell_type": "code",
   "execution_count": null,
   "id": "4e91f7d6-b1aa-4781-9410-1f4983767272",
   "metadata": {},
   "outputs": [],
   "source": []
  },
  {
   "cell_type": "code",
   "execution_count": 16,
   "id": "c4abd3ee-c77f-45d6-8d13-f939bfdb2be3",
   "metadata": {},
   "outputs": [
    {
     "data": {
      "image/png": "[encoded data removed]",
      "text/plain": [
       "<Figure size 640x480 with 1 Axes>"
      ]
     },
     "metadata": {},
     "output_type": "display_data"
    }
   ],
   "source": [
    "fig, ax =plt.subplots()\n",
    "ax.bar('행정구역별','종사자수(명)',data=df_region_all)\n",
    "plt.xticks(rotation=90)\n",
    "plt.show() ## 서울 경기  사람이 가장 많이 분포해 있다 "
   ]
  },
  {
   "cell_type": "code",
   "execution_count": 19,
   "id": "b2dd337f-42a1-4dec-aa70-3035f74729ff",
   "metadata": {},
   "outputs": [
    {
     "data": {
      "image/png": "[encoded data removed]",
      "text/plain": [
       "<Figure size 640x480 with 1 Axes>"
      ]
     },
     "metadata": {},
     "output_type": "display_data"
    }
   ],
   "source": [
    "fig, ax =plt.subplots()\n",
    "ax.bar('산업별','종사자수(명)',data=df_region_industry)\n",
    "plt.xticks(rotation=90)\n",
    "plt.show() ## 산업 종사자수는  전반적으로   제조업에 집중되어 있습니다 "
   ]
  },
  {
   "cell_type": "code",
   "execution_count": 21,
   "id": "fef543f4-0c34-425a-98b2-f5929d034294",
   "metadata": {},
   "outputs": [
    {
     "data": {
      "image/png": "[encoded data removed]",
      "text/plain": [
       "<Figure size 640x480 with 1 Axes>"
      ]
     },
     "metadata": {},
     "output_type": "display_data"
    }
   ],
   "source": [
    "#df_region_industry.columns\n",
    "fig, ax =plt.subplots()\n",
    "ax.bar('산업별','사업체수(개)',data=df_region_industry)\n",
    "plt.xticks(rotation=90)\n",
    "plt.show() ##  산업체 개수 산업별"
   ]
  },
  {
   "cell_type": "code",
   "execution_count": 35,
   "id": "ec76ed91-7d46-4a6f-99d2-487fa359f07b",
   "metadata": {
    "tags": []
   },
   "outputs": [
    {
     "data": {
      "text/plain": [
       "array(['서울', '부산', '대구', '인천', '광주', '대전', '울산', '세종', '경기', '강원', '충북',\n",
       "       '충남', '전북', '전남', '경북', '경남', '제주'], dtype=object)"
      ]
     },
     "execution_count": 35,
     "metadata": {},
     "output_type": "execute_result"
    }
   ],
   "source": [
    "df_region_industry['행정구역별'].unique()"
   ]
  },
  {
   "cell_type": "code",
   "execution_count": 40,
   "id": "a4b6b28d-953a-4e69-8650-9294da39fb13",
   "metadata": {},
   "outputs": [],
   "source": [
    "df_seoul=df_region_industry[df_region_industry['행정구역별']=='서울']\n",
    "df_seoul=df_region_industry[df_region_industry['행정구역별']=='부산']\n",
    "df_seoul=df_region_industry[df_region_industry['행정구역별']=='대구']\n",
    "df_seoul=df_region_industry[df_region_industry['행정구역별']=='인천']\n",
    "df_seoul=df_region_industry[df_region_industry['행정구역별']=='광주']\n",
    "df_seoul=df_region_industry[df_region_industry['행정구역별']=='대전']\n",
    "df_seoul=df_region_industry[df_region_industry['행정구역별']=='울산']\n",
    "df_seoul=df_region_industry[df_region_industry['행정구역별']=='세종']\n",
    "df_seoul=df_region_industry[df_region_industry['행정구역별']=='경기']\n",
    "df_seoul=df_region_industry[df_region_industry['행정구역별']=='강원']\n",
    "df_seoul=df_region_industry[df_region_industry['행정구역별']=='충북']\n",
    "df_seoul=df_region_industry[df_region_industry['행정구역별']=='충남']\n",
    "df_seoul=df_region_industry[df_region_industry['행정구역별']=='서울']\n",
    "df_seoul=df_region_industry[df_region_industry['행정구역별']=='서울']\n",
    "df_seoul=df_region_industry[df_region_industry['행정구역별']=='서울']\n"
   ]
  },
  {
   "cell_type": "code",
   "execution_count": null,
   "id": "29802dd5-5dae-40b0-bcc1-cabbfbaca965",
   "metadata": {},
   "outputs": [],
   "source": [
    "fig = plt.figure()\n",
    "\n",
    "### 4개의 그래프가 들어갈 공간 만들기\n",
    "# add_subplot(행, 열, 위치)\n",
    "ax1 = fig.add_subplot(2, 2, 1)\n",
    "ax2 = fig.add_subplot(2, 2, 2)\n",
    "ax3 = fig.add_subplot(2, 2, 3)\n",
    "ax4 = fig.add_subplot(2, 2, 4)\n",
    "\n",
    "### 각 공간 그래프에 제목 달기\n",
    "ax1.set_title(\"data1\")\n",
    "ax2.set_title(\"data2\")\n",
    "ax3.set_title(\"data3\")\n",
    "ax4.set_title(\"data4\")\n",
    "\n",
    "### 그래프 겹치지 않게 정렬하기\n",
    "# fig.tight_layout()\n",
    "\n",
    "### 그래프에 데이터 넣어서 그리기\n",
    "ax1.plot(data1[\"x\"], data1[\"y\"], \"o\", c=\"b\")\n",
    "ax2.plot(data2[\"x\"], data2[\"y\"], \"o\", c=\"r\")\n",
    "ax3.plot(data3[\"x\"], data3[\"y\"], \"o\", c=\"g\")\n",
    "ax4.plot(data4[\"x\"], data4[\"y\"], \"o\", c=\"y\")\n",
    "\n",
    "### 그래프 전체 제목 넣기\n",
    "fig.suptitle(\"Anscombe Data\")\n",
    "\n",
    "### 그래프 겹치지 않게 정렬하기\n",
    "fig.tight_layout()"
   ]
  }
 ],
 "metadata": {
  "kernelspec": {
   "display_name": "Python 3 (ipykernel)",
   "language": "python",
   "name": "python3"
  },
  "language_info": {
   "codemirror_mode": {
    "name": "ipython",
    "version": 3
   },
   "file_extension": ".py",
   "mimetype": "text/x-python",
   "name": "python",
   "nbconvert_exporter": "python",
   "pygments_lexer": "ipython3",
   "version": "3.10.9"
  }
 },
 "nbformat": 4,
 "nbformat_minor": 5
}
